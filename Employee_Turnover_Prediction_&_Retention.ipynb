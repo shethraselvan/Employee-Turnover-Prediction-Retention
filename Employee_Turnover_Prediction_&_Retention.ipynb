{
  "nbformat": 4,
  "nbformat_minor": 0,
  "metadata": {
    "colab": {
      "provenance": []
    },
    "kernelspec": {
      "name": "python3",
      "display_name": "Python 3"
    },
    "language_info": {
      "name": "python"
    }
  },
  "cells": [
    {
      "cell_type": "code",
      "source": [
        "import pandas as pd\n",
        "from sklearn.tree import DecisionTreeClassifier\n",
        "from sklearn.model_selection import train_test_split\n",
        "from sklearn.metrics import accuracy_score\n",
        "\n",
        "# Load your dataset\n",
        "data = pd.read_csv(\"employee_turnover_data.csv\")\n",
        "\n",
        "# Split data into features (X) and target (y)\n",
        "X = data.drop(columns=['turnover'])  # Features\n",
        "y = data['turnover']  # Target variable (0: not turnover, 1: turnover)\n",
        "\n",
        "# Split data into train and test sets\n",
        "X_train, X_test, y_train, y_test = train_test_split(X, y, test_size=0.2, random_state=42)\n",
        "\n",
        "# Train decision tree classifier\n",
        "clf = DecisionTreeClassifier()\n",
        "clf.fit(X_train, y_train)\n",
        "\n",
        "# Predict turnover on test set\n",
        "y_pred = clf.predict(X_test)\n",
        "\n",
        "# Calculate accuracy\n",
        "accuracy = accuracy_score(y_test, y_pred)\n",
        "print(\"Accuracy:\", accuracy)\n",
        "\n",
        "# Feature importance\n",
        "feature_importance = pd.Series(clf.feature_importances_, index=X.columns)\n",
        "print(\"Feature Importance:\")\n",
        "print(feature_importance)\n",
        "\n",
        "# Suggestions for retention strategies based on feature importance\n",
        "top_features = feature_importance.nlargest(3).index\n",
        "print(\"\\nTop 3 important features for retention:\")\n",
        "for feature in top_features:\n",
        "    print(feature)\n",
        "    # Here you can provide specific strategies based on each feature\n",
        "\n",
        "# Example strategies could include salary adjustments, improving work-life balance, career development opportunities, etc.\n"
      ],
      "metadata": {
        "id": "c5cLhiWuF4jg"
      },
      "execution_count": null,
      "outputs": []
    }
  ]
}